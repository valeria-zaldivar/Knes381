{
 "cells": [
  {
   "cell_type": "code",
   "execution_count": 1,
   "id": "34fa67c4",
   "metadata": {
    "_cell_guid": "b1076dfc-b9ad-4769-8c92-a6c4dae69d19",
    "_uuid": "8f2839f25d086af736a60e9eeb907d3b93b6e0e5",
    "execution": {
     "iopub.execute_input": "2025-03-27T18:56:54.628206Z",
     "iopub.status.busy": "2025-03-27T18:56:54.627887Z",
     "iopub.status.idle": "2025-03-27T18:56:55.465574Z",
     "shell.execute_reply": "2025-03-27T18:56:55.464290Z"
    },
    "papermill": {
     "duration": 0.847261,
     "end_time": "2025-03-27T18:56:55.467354",
     "exception": false,
     "start_time": "2025-03-27T18:56:54.620093",
     "status": "completed"
    },
    "tags": []
   },
   "outputs": [
    {
     "name": "stdout",
     "output_type": "stream",
     "text": [
      "/kaggle/input/demo-knes381/subject_1321.xlsx\n",
      "/kaggle/input/demo-knes381/subject_1432.xlsx\n",
      "/kaggle/input/demo-knes381/subject_1321.csv\n",
      "/kaggle/input/demo-knes381/subject_1232.csv\n",
      "/kaggle/input/demo-knes381/VO2_CSV.csv\n",
      "/kaggle/input/demo-knes381/subject_1232.xlsx\n",
      "/kaggle/input/demo-knes381/subject_1432.csv\n",
      "/kaggle/input/demo-knes381/subject_1523.csv\n",
      "/kaggle/input/demo-knes381/VO2_excel.xlsx\n",
      "/kaggle/input/demo-knes381/subject_1523.xlsx\n"
     ]
    }
   ],
   "source": [
    "# This Python 3 environment comes with many helpful analytics libraries installed\n",
    "# It is defined by the kaggle/python Docker image: https://github.com/kaggle/docker-python\n",
    "# For example, here's several helpful packages to load\n",
    "\n",
    "import numpy as np # linear algebra\n",
    "import pandas as pd # data processing, CSV file I/O (e.g. pd.read_csv)\n",
    "\n",
    "# Input data files are available in the read-only \"../input/\" directory\n",
    "# For example, running this (by clicking run or pressing Shift+Enter) will list all files under the input directory\n",
    "\n",
    "import os\n",
    "for dirname, _, filenames in os.walk('/kaggle/input'):\n",
    "    for filename in filenames:\n",
    "        print(os.path.join(dirname, filename))\n",
    "\n",
    "# You can write up to 20GB to the current directory (/kaggle/working/) that gets preserved as output when you create a version using \"Save & Run All\" \n",
    "# You can also write temporary files to /kaggle/temp/, but they won't be saved outside of the current session"
   ]
  },
  {
   "cell_type": "code",
   "execution_count": 2,
   "id": "53a20baf",
   "metadata": {
    "execution": {
     "iopub.execute_input": "2025-03-27T18:56:55.481291Z",
     "iopub.status.busy": "2025-03-27T18:56:55.480829Z",
     "iopub.status.idle": "2025-03-27T18:56:55.550578Z",
     "shell.execute_reply": "2025-03-27T18:56:55.549639Z"
    },
    "papermill": {
     "duration": 0.077959,
     "end_time": "2025-03-27T18:56:55.551899",
     "exception": false,
     "start_time": "2025-03-27T18:56:55.473940",
     "status": "completed"
    },
    "tags": []
   },
   "outputs": [
    {
     "name": "stdout",
     "output_type": "stream",
     "text": [
      "<class 'pandas.core.frame.DataFrame'>\n",
      "RangeIndex: 63 entries, 0 to 62\n",
      "Data columns (total 15 columns):\n",
      " #   Column  Non-Null Count  Dtype  \n",
      "---  ------  --------------  -----  \n",
      " 0   TIME    61 non-null     object \n",
      " 1   VO2     62 non-null     object \n",
      " 2   VO2/kg  62 non-null     object \n",
      " 3   METS    60 non-null     float64\n",
      " 4   VCO2    62 non-null     object \n",
      " 5   VE      62 non-null     object \n",
      " 6   RER     60 non-null     float64\n",
      " 7   RR      61 non-null     object \n",
      " 8   Vt      62 non-null     object \n",
      " 9   FEO2    61 non-null     object \n",
      " 10  FECO2   61 non-null     object \n",
      " 11  HR      61 non-null     object \n",
      " 12  VE/     62 non-null     object \n",
      " 13  VE/.1   62 non-null     object \n",
      " 14  PetCO2  61 non-null     object \n",
      "dtypes: float64(2), object(13)\n",
      "memory usage: 7.5+ KB\n"
     ]
    },
    {
     "name": "stderr",
     "output_type": "stream",
     "text": [
      "/usr/local/lib/python3.10/dist-packages/pandas/io/formats/format.py:1458: RuntimeWarning: invalid value encountered in greater\n",
      "  has_large_values = (abs_vals > 1e6).any()\n",
      "/usr/local/lib/python3.10/dist-packages/pandas/io/formats/format.py:1459: RuntimeWarning: invalid value encountered in less\n",
      "  has_small_values = ((abs_vals < 10 ** (-self.digits)) & (abs_vals > 0)).any()\n",
      "/usr/local/lib/python3.10/dist-packages/pandas/io/formats/format.py:1459: RuntimeWarning: invalid value encountered in greater\n",
      "  has_small_values = ((abs_vals < 10 ** (-self.digits)) & (abs_vals > 0)).any()\n"
     ]
    },
    {
     "data": {
      "text/html": [
       "<div>\n",
       "<style scoped>\n",
       "    .dataframe tbody tr th:only-of-type {\n",
       "        vertical-align: middle;\n",
       "    }\n",
       "\n",
       "    .dataframe tbody tr th {\n",
       "        vertical-align: top;\n",
       "    }\n",
       "\n",
       "    .dataframe thead th {\n",
       "        text-align: right;\n",
       "    }\n",
       "</style>\n",
       "<table border=\"1\" class=\"dataframe\">\n",
       "  <thead>\n",
       "    <tr style=\"text-align: right;\">\n",
       "      <th></th>\n",
       "      <th>TIME</th>\n",
       "      <th>VO2</th>\n",
       "      <th>VO2/kg</th>\n",
       "      <th>METS</th>\n",
       "      <th>VCO2</th>\n",
       "      <th>VE</th>\n",
       "      <th>RER</th>\n",
       "      <th>RR</th>\n",
       "      <th>Vt</th>\n",
       "      <th>FEO2</th>\n",
       "      <th>FECO2</th>\n",
       "      <th>HR</th>\n",
       "      <th>VE/</th>\n",
       "      <th>VE/.1</th>\n",
       "      <th>PetCO2</th>\n",
       "    </tr>\n",
       "  </thead>\n",
       "  <tbody>\n",
       "    <tr>\n",
       "      <th>0</th>\n",
       "      <td>NaN</td>\n",
       "      <td>STPD</td>\n",
       "      <td>STPD</td>\n",
       "      <td>NaN</td>\n",
       "      <td>STPD</td>\n",
       "      <td>BTPS</td>\n",
       "      <td>NaN</td>\n",
       "      <td>NaN</td>\n",
       "      <td>BTPS</td>\n",
       "      <td>NaN</td>\n",
       "      <td>NaN</td>\n",
       "      <td>NaN</td>\n",
       "      <td>VO2</td>\n",
       "      <td>VCO2</td>\n",
       "      <td>NaN</td>\n",
       "    </tr>\n",
       "    <tr>\n",
       "      <th>1</th>\n",
       "      <td>min</td>\n",
       "      <td>L/min</td>\n",
       "      <td>ml/kg/m</td>\n",
       "      <td>NaN</td>\n",
       "      <td>L/min</td>\n",
       "      <td>L/min</td>\n",
       "      <td>NaN</td>\n",
       "      <td>BPM</td>\n",
       "      <td>L</td>\n",
       "      <td>%</td>\n",
       "      <td>%</td>\n",
       "      <td>bpm</td>\n",
       "      <td>BT/ST</td>\n",
       "      <td>BT/ST</td>\n",
       "      <td>mmHg</td>\n",
       "    </tr>\n",
       "    <tr>\n",
       "      <th>2</th>\n",
       "      <td>NaN</td>\n",
       "      <td>NaN</td>\n",
       "      <td>NaN</td>\n",
       "      <td>NaN</td>\n",
       "      <td>NaN</td>\n",
       "      <td>NaN</td>\n",
       "      <td>NaN</td>\n",
       "      <td>NaN</td>\n",
       "      <td>NaN</td>\n",
       "      <td>NaN</td>\n",
       "      <td>NaN</td>\n",
       "      <td>NaN</td>\n",
       "      <td>NaN</td>\n",
       "      <td>NaN</td>\n",
       "      <td>NaN</td>\n",
       "    </tr>\n",
       "    <tr>\n",
       "      <th>3</th>\n",
       "      <td>0.534000039</td>\n",
       "      <td>1.031499386</td>\n",
       "      <td>13.84562969</td>\n",
       "      <td>3.955894</td>\n",
       "      <td>0.921027899</td>\n",
       "      <td>32.77013397</td>\n",
       "      <td>0.892902</td>\n",
       "      <td>24.34456825</td>\n",
       "      <td>1.346096277</td>\n",
       "      <td>16.59932327</td>\n",
       "      <td>3.995723009</td>\n",
       "      <td>82</td>\n",
       "      <td>31.76941681</td>\n",
       "      <td>35.57995987</td>\n",
       "      <td>27.01317215</td>\n",
       "    </tr>\n",
       "    <tr>\n",
       "      <th>4</th>\n",
       "      <td>1.031666636</td>\n",
       "      <td>1.078813553</td>\n",
       "      <td>14.48071861</td>\n",
       "      <td>4.137348</td>\n",
       "      <td>0.941370487</td>\n",
       "      <td>32.80964661</td>\n",
       "      <td>0.872598</td>\n",
       "      <td>22.10314941</td>\n",
       "      <td>1.484387875</td>\n",
       "      <td>16.42579842</td>\n",
       "      <td>4.078265667</td>\n",
       "      <td>36</td>\n",
       "      <td>30.4127121</td>\n",
       "      <td>34.85306549</td>\n",
       "      <td>27.12163162</td>\n",
       "    </tr>\n",
       "  </tbody>\n",
       "</table>\n",
       "</div>"
      ],
      "text/plain": [
       "          TIME          VO2       VO2/kg      METS         VCO2           VE  \\\n",
       "0          NaN         STPD         STPD       NaN         STPD         BTPS   \n",
       "1          min        L/min      ml/kg/m       NaN        L/min        L/min   \n",
       "2          NaN          NaN          NaN       NaN          NaN          NaN   \n",
       "3  0.534000039  1.031499386  13.84562969  3.955894  0.921027899  32.77013397   \n",
       "4  1.031666636  1.078813553  14.48071861  4.137348  0.941370487  32.80964661   \n",
       "\n",
       "        RER           RR           Vt         FEO2        FECO2   HR  \\\n",
       "0       NaN          NaN         BTPS          NaN          NaN  NaN   \n",
       "1       NaN          BPM            L            %            %  bpm   \n",
       "2       NaN          NaN          NaN          NaN          NaN  NaN   \n",
       "3  0.892902  24.34456825  1.346096277  16.59932327  3.995723009   82   \n",
       "4  0.872598  22.10314941  1.484387875  16.42579842  4.078265667   36   \n",
       "\n",
       "           VE/        VE/.1       PetCO2  \n",
       "0          VO2         VCO2          NaN  \n",
       "1        BT/ST        BT/ST         mmHg  \n",
       "2          NaN          NaN          NaN  \n",
       "3  31.76941681  35.57995987  27.01317215  \n",
       "4   30.4127121  34.85306549  27.12163162  "
      ]
     },
     "execution_count": 2,
     "metadata": {},
     "output_type": "execute_result"
    }
   ],
   "source": [
    "# df_excel = pd.read_excel(\"/kaggle/input/demo-knes381/VO2_excel.xlsx\") will read the excel version of this file\n",
    "\n",
    "df = pd.read_csv('../input/demo-knes381/subject_1432.csv')\n",
    "df.info()\n",
    "df.head(5)\n",
    "# this function will throw errors when if finds values that are blank NaN (not a number)\n",
    "# you can ignore this we will fix it momentarily..."
   ]
  },
  {
   "cell_type": "code",
   "execution_count": 3,
   "id": "d474f561",
   "metadata": {
    "execution": {
     "iopub.execute_input": "2025-03-27T18:56:55.565697Z",
     "iopub.status.busy": "2025-03-27T18:56:55.565330Z",
     "iopub.status.idle": "2025-03-27T18:56:55.587778Z",
     "shell.execute_reply": "2025-03-27T18:56:55.586773Z"
    },
    "papermill": {
     "duration": 0.031072,
     "end_time": "2025-03-27T18:56:55.589486",
     "exception": false,
     "start_time": "2025-03-27T18:56:55.558414",
     "status": "completed"
    },
    "tags": []
   },
   "outputs": [
    {
     "data": {
      "text/html": [
       "<div>\n",
       "<style scoped>\n",
       "    .dataframe tbody tr th:only-of-type {\n",
       "        vertical-align: middle;\n",
       "    }\n",
       "\n",
       "    .dataframe tbody tr th {\n",
       "        vertical-align: top;\n",
       "    }\n",
       "\n",
       "    .dataframe thead th {\n",
       "        text-align: right;\n",
       "    }\n",
       "</style>\n",
       "<table border=\"1\" class=\"dataframe\">\n",
       "  <thead>\n",
       "    <tr style=\"text-align: right;\">\n",
       "      <th></th>\n",
       "      <th>TIME (min)</th>\n",
       "      <th>VO2 (L/min)</th>\n",
       "      <th>VO2/kg (ml/kg/m)</th>\n",
       "      <th>METS</th>\n",
       "      <th>VCO2 (L/min)</th>\n",
       "      <th>VE (L/min)</th>\n",
       "      <th>RER</th>\n",
       "      <th>RR (BPM)</th>\n",
       "      <th>Vt (L)</th>\n",
       "      <th>FEO2 (%)</th>\n",
       "      <th>FECO2 (%)</th>\n",
       "      <th>HR (bpm)</th>\n",
       "      <th>VE/ (BT/ST)</th>\n",
       "      <th>VE/ (BT/ST)</th>\n",
       "      <th>PetCO2 (mmHg)</th>\n",
       "    </tr>\n",
       "  </thead>\n",
       "  <tbody>\n",
       "    <tr>\n",
       "      <th>0</th>\n",
       "      <td>0.534000039</td>\n",
       "      <td>1.031499386</td>\n",
       "      <td>13.84562969</td>\n",
       "      <td>3.955894232</td>\n",
       "      <td>0.921027899</td>\n",
       "      <td>32.77013397</td>\n",
       "      <td>0.892902017</td>\n",
       "      <td>24.34456825</td>\n",
       "      <td>1.346096277</td>\n",
       "      <td>16.59932327</td>\n",
       "      <td>3.995723009</td>\n",
       "      <td>82</td>\n",
       "      <td>31.76941681</td>\n",
       "      <td>35.57995987</td>\n",
       "      <td>27.01317215</td>\n",
       "    </tr>\n",
       "    <tr>\n",
       "      <th>1</th>\n",
       "      <td>1.031666636</td>\n",
       "      <td>1.078813553</td>\n",
       "      <td>14.48071861</td>\n",
       "      <td>4.137348175</td>\n",
       "      <td>0.941370487</td>\n",
       "      <td>32.80964661</td>\n",
       "      <td>0.872597933</td>\n",
       "      <td>22.10314941</td>\n",
       "      <td>1.484387875</td>\n",
       "      <td>16.42579842</td>\n",
       "      <td>4.078265667</td>\n",
       "      <td>36</td>\n",
       "      <td>30.4127121</td>\n",
       "      <td>34.85306549</td>\n",
       "      <td>27.12163162</td>\n",
       "    </tr>\n",
       "    <tr>\n",
       "      <th>2</th>\n",
       "      <td>1.521333337</td>\n",
       "      <td>0.999064684</td>\n",
       "      <td>13.41026402</td>\n",
       "      <td>3.831504107</td>\n",
       "      <td>0.884314001</td>\n",
       "      <td>29.55063248</td>\n",
       "      <td>0.885141909</td>\n",
       "      <td>18.37985039</td>\n",
       "      <td>1.607773304</td>\n",
       "      <td>16.28624344</td>\n",
       "      <td>4.251848698</td>\n",
       "      <td>56</td>\n",
       "      <td>29.57829666</td>\n",
       "      <td>33.41644669</td>\n",
       "      <td>28.35643578</td>\n",
       "    </tr>\n",
       "    <tr>\n",
       "      <th>3</th>\n",
       "      <td>2.003166676</td>\n",
       "      <td>1.156774282</td>\n",
       "      <td>15.52717113</td>\n",
       "      <td>4.43633461</td>\n",
       "      <td>0.995852172</td>\n",
       "      <td>32.44647217</td>\n",
       "      <td>0.86088717</td>\n",
       "      <td>18.67865944</td>\n",
       "      <td>1.737087846</td>\n",
       "      <td>16.05854034</td>\n",
       "      <td>4.359823227</td>\n",
       "      <td>27</td>\n",
       "      <td>28.04909515</td>\n",
       "      <td>32.58161545</td>\n",
       "      <td>29.16718483</td>\n",
       "    </tr>\n",
       "    <tr>\n",
       "      <th>4</th>\n",
       "      <td>2.507666588</td>\n",
       "      <td>1.121407986</td>\n",
       "      <td>15.0524559</td>\n",
       "      <td>4.300701618</td>\n",
       "      <td>0.962487578</td>\n",
       "      <td>31.22615242</td>\n",
       "      <td>0.85828495</td>\n",
       "      <td>15.8572855</td>\n",
       "      <td>1.969199061</td>\n",
       "      <td>16.02567291</td>\n",
       "      <td>4.37826252</td>\n",
       "      <td>27</td>\n",
       "      <td>27.84548759</td>\n",
       "      <td>32.44317627</td>\n",
       "      <td>29.20425415</td>\n",
       "    </tr>\n",
       "  </tbody>\n",
       "</table>\n",
       "</div>"
      ],
      "text/plain": [
       "    TIME (min)  VO2 (L/min) VO2/kg (ml/kg/m)         METS VCO2 (L/min)  \\\n",
       "0  0.534000039  1.031499386      13.84562969  3.955894232  0.921027899   \n",
       "1  1.031666636  1.078813553      14.48071861  4.137348175  0.941370487   \n",
       "2  1.521333337  0.999064684      13.41026402  3.831504107  0.884314001   \n",
       "3  2.003166676  1.156774282      15.52717113   4.43633461  0.995852172   \n",
       "4  2.507666588  1.121407986       15.0524559  4.300701618  0.962487578   \n",
       "\n",
       "    VE (L/min)          RER     RR (BPM)       Vt (L)     FEO2 (%)  \\\n",
       "0  32.77013397  0.892902017  24.34456825  1.346096277  16.59932327   \n",
       "1  32.80964661  0.872597933  22.10314941  1.484387875  16.42579842   \n",
       "2  29.55063248  0.885141909  18.37985039  1.607773304  16.28624344   \n",
       "3  32.44647217   0.86088717  18.67865944  1.737087846  16.05854034   \n",
       "4  31.22615242   0.85828495   15.8572855  1.969199061  16.02567291   \n",
       "\n",
       "     FECO2 (%) HR (bpm)  VE/ (BT/ST)  VE/ (BT/ST) PetCO2 (mmHg)  \n",
       "0  3.995723009       82  31.76941681  35.57995987   27.01317215  \n",
       "1  4.078265667       36   30.4127121  34.85306549   27.12163162  \n",
       "2  4.251848698       56  29.57829666  33.41644669   28.35643578  \n",
       "3  4.359823227       27  28.04909515  32.58161545   29.16718483  \n",
       "4   4.37826252       27  27.84548759  32.44317627   29.20425415  "
      ]
     },
     "execution_count": 3,
     "metadata": {},
     "output_type": "execute_result"
    }
   ],
   "source": [
    "# Step 1: read in the dataframe and do not allow pandas to find the header.\n",
    "# Please note that I am creating a new dataframe here df2 so we can compare\n",
    "# df and df2 potentially in the future...\n",
    "\n",
    "df2 = pd.read_csv('../input/demo-knes381/subject_1432.csv', header=None)\n",
    "# Assuming the first row is the header and the third row contains units. please note that in the raw file if the header is the fist row it will be zero, \n",
    "# and the third row will be 2 as we start counting at zero instead of 1.\n",
    "\n",
    "# Step 2: Set the header.\n",
    "\n",
    "header = df2.iloc[0]\n",
    "units = df2.iloc[2]\n",
    "\n",
    "# Step 3: Combine header and units, replace NaN with blank.\n",
    "new_header = [f\"{h} ({u})\" if not pd.isna(u) else f\"{h}\" for h, u in zip(header, units)]\n",
    "# Reading from the back... zip (hader, units) pairs each element from the header with a unit\n",
    "# If 'u' is valid it creates a string value formatted as header (unit)\n",
    "# using f-string f\"{h} ({u})\", if u is NaN (not a number) it simply used the header h as the string f\"{h}\"\n",
    "# the list of these formatings is then written into new_header\n",
    "\n",
    "# Step 4: Reassign column names and drop extra rows.\n",
    "df2.columns = new_header\n",
    "df2 = df2.drop(index=[0, 1, 2, 3])\n",
    "\n",
    "# Optionally, reset index if you want a clean, zero-based index.\n",
    "df2.reset_index(drop=True, inplace=True)\n",
    "df2.head()"
   ]
  },
  {
   "cell_type": "code",
   "execution_count": 4,
   "id": "fe72e346",
   "metadata": {
    "execution": {
     "iopub.execute_input": "2025-03-27T18:56:55.604442Z",
     "iopub.status.busy": "2025-03-27T18:56:55.604082Z",
     "iopub.status.idle": "2025-03-27T18:56:55.619183Z",
     "shell.execute_reply": "2025-03-27T18:56:55.618292Z"
    },
    "papermill": {
     "duration": 0.024276,
     "end_time": "2025-03-27T18:56:55.620640",
     "exception": false,
     "start_time": "2025-03-27T18:56:55.596364",
     "status": "completed"
    },
    "tags": []
   },
   "outputs": [
    {
     "data": {
      "text/html": [
       "<div>\n",
       "<style scoped>\n",
       "    .dataframe tbody tr th:only-of-type {\n",
       "        vertical-align: middle;\n",
       "    }\n",
       "\n",
       "    .dataframe tbody tr th {\n",
       "        vertical-align: top;\n",
       "    }\n",
       "\n",
       "    .dataframe thead th {\n",
       "        text-align: right;\n",
       "    }\n",
       "</style>\n",
       "<table border=\"1\" class=\"dataframe\">\n",
       "  <thead>\n",
       "    <tr style=\"text-align: right;\">\n",
       "      <th></th>\n",
       "      <th>TIME (min)</th>\n",
       "      <th>VO2 (L/min)</th>\n",
       "      <th>VO2/kg (ml/kg/m)</th>\n",
       "      <th>METS</th>\n",
       "      <th>VCO2 (L/min)</th>\n",
       "      <th>VE (L/min)</th>\n",
       "      <th>RER</th>\n",
       "      <th>RR (BPM)</th>\n",
       "      <th>Vt (L)</th>\n",
       "      <th>FEO2 (%)</th>\n",
       "      <th>FECO2 (%)</th>\n",
       "      <th>HR (bpm)</th>\n",
       "      <th>VE/ (BT/ST)</th>\n",
       "      <th>VE/ (BT/ST)</th>\n",
       "      <th>PetCO2 (mmHg)</th>\n",
       "    </tr>\n",
       "  </thead>\n",
       "  <tbody>\n",
       "    <tr>\n",
       "      <th>55</th>\n",
       "      <td>28.00416565</td>\n",
       "      <td>3.605244875</td>\n",
       "      <td>48.39254761</td>\n",
       "      <td>13.82644176</td>\n",
       "      <td>3.878199339</td>\n",
       "      <td>133.9531097</td>\n",
       "      <td>1.075710416</td>\n",
       "      <td>34.69387436</td>\n",
       "      <td>3.86100173</td>\n",
       "      <td>17.08212471</td>\n",
       "      <td>4.114511967</td>\n",
       "      <td>176</td>\n",
       "      <td>37.15506744</td>\n",
       "      <td>34.54002762</td>\n",
       "      <td>27.41787148</td>\n",
       "    </tr>\n",
       "    <tr>\n",
       "      <th>56</th>\n",
       "      <td>28.50432968</td>\n",
       "      <td>3.645794868</td>\n",
       "      <td>48.93684387</td>\n",
       "      <td>13.98195553</td>\n",
       "      <td>3.977361679</td>\n",
       "      <td>143.4989471</td>\n",
       "      <td>1.090945005</td>\n",
       "      <td>37.98733521</td>\n",
       "      <td>3.777547121</td>\n",
       "      <td>17.28629875</td>\n",
       "      <td>3.940698624</td>\n",
       "      <td>180</td>\n",
       "      <td>39.3601265</td>\n",
       "      <td>36.0789299</td>\n",
       "      <td>26.07777214</td>\n",
       "    </tr>\n",
       "    <tr>\n",
       "      <th>57</th>\n",
       "      <td>29.00016212</td>\n",
       "      <td>3.718159437</td>\n",
       "      <td>49.90818024</td>\n",
       "      <td>14.25948048</td>\n",
       "      <td>4.076729774</td>\n",
       "      <td>148.0584259</td>\n",
       "      <td>1.096437573</td>\n",
       "      <td>38.31932831</td>\n",
       "      <td>3.863805294</td>\n",
       "      <td>17.32434273</td>\n",
       "      <td>3.915020466</td>\n",
       "      <td>182</td>\n",
       "      <td>39.82035446</td>\n",
       "      <td>36.31793976</td>\n",
       "      <td>26.00835037</td>\n",
       "    </tr>\n",
       "    <tr>\n",
       "      <th>58</th>\n",
       "      <td>29.50366783</td>\n",
       "      <td>3.696777582</td>\n",
       "      <td>49.62117386</td>\n",
       "      <td>14.17747784</td>\n",
       "      <td>4.088238239</td>\n",
       "      <td>153.9693298</td>\n",
       "      <td>1.10589242</td>\n",
       "      <td>41.70804596</td>\n",
       "      <td>3.6915977</td>\n",
       "      <td>17.47602081</td>\n",
       "      <td>3.776765585</td>\n",
       "      <td>185</td>\n",
       "      <td>41.6496048</td>\n",
       "      <td>37.66153717</td>\n",
       "      <td>25.00949669</td>\n",
       "    </tr>\n",
       "    <tr>\n",
       "      <th>59</th>\n",
       "      <td>29.7745018</td>\n",
       "      <td>2.708231688</td>\n",
       "      <td>36.35210419</td>\n",
       "      <td>10.38631535</td>\n",
       "      <td>3.028991699</td>\n",
       "      <td>116.847702</td>\n",
       "      <td>1.118438959</td>\n",
       "      <td>40.61538696</td>\n",
       "      <td>2.876931906</td>\n",
       "      <td>17.58719826</td>\n",
       "      <td>3.688127518</td>\n",
       "      <td>171</td>\n",
       "      <td>43.14538574</td>\n",
       "      <td>38.57643509</td>\n",
       "      <td>24.47012711</td>\n",
       "    </tr>\n",
       "  </tbody>\n",
       "</table>\n",
       "</div>"
      ],
      "text/plain": [
       "     TIME (min)  VO2 (L/min) VO2/kg (ml/kg/m)         METS VCO2 (L/min)  \\\n",
       "55  28.00416565  3.605244875      48.39254761  13.82644176  3.878199339   \n",
       "56  28.50432968  3.645794868      48.93684387  13.98195553  3.977361679   \n",
       "57  29.00016212  3.718159437      49.90818024  14.25948048  4.076729774   \n",
       "58  29.50366783  3.696777582      49.62117386  14.17747784  4.088238239   \n",
       "59   29.7745018  2.708231688      36.35210419  10.38631535  3.028991699   \n",
       "\n",
       "     VE (L/min)          RER     RR (BPM)       Vt (L)     FEO2 (%)  \\\n",
       "55  133.9531097  1.075710416  34.69387436   3.86100173  17.08212471   \n",
       "56  143.4989471  1.090945005  37.98733521  3.777547121  17.28629875   \n",
       "57  148.0584259  1.096437573  38.31932831  3.863805294  17.32434273   \n",
       "58  153.9693298   1.10589242  41.70804596    3.6915977  17.47602081   \n",
       "59   116.847702  1.118438959  40.61538696  2.876931906  17.58719826   \n",
       "\n",
       "      FECO2 (%) HR (bpm)  VE/ (BT/ST)  VE/ (BT/ST) PetCO2 (mmHg)  \n",
       "55  4.114511967      176  37.15506744  34.54002762   27.41787148  \n",
       "56  3.940698624      180   39.3601265   36.0789299   26.07777214  \n",
       "57  3.915020466      182  39.82035446  36.31793976   26.00835037  \n",
       "58  3.776765585      185   41.6496048  37.66153717   25.00949669  \n",
       "59  3.688127518      171  43.14538574  38.57643509   24.47012711  "
      ]
     },
     "execution_count": 4,
     "metadata": {},
     "output_type": "execute_result"
    }
   ],
   "source": [
    "df2.tail()"
   ]
  },
  {
   "cell_type": "code",
   "execution_count": 5,
   "id": "ef4fdcc8",
   "metadata": {
    "execution": {
     "iopub.execute_input": "2025-03-27T18:56:55.635877Z",
     "iopub.status.busy": "2025-03-27T18:56:55.635521Z",
     "iopub.status.idle": "2025-03-27T18:56:55.644780Z",
     "shell.execute_reply": "2025-03-27T18:56:55.643542Z"
    },
    "papermill": {
     "duration": 0.018191,
     "end_time": "2025-03-27T18:56:55.646303",
     "exception": false,
     "start_time": "2025-03-27T18:56:55.628112",
     "status": "completed"
    },
    "tags": []
   },
   "outputs": [
    {
     "name": "stdout",
     "output_type": "stream",
     "text": [
      "<class 'pandas.core.frame.DataFrame'>\n",
      "RangeIndex: 60 entries, 0 to 59\n",
      "Data columns (total 15 columns):\n",
      " #   Column            Non-Null Count  Dtype \n",
      "---  ------            --------------  ----- \n",
      " 0   TIME (min)        60 non-null     object\n",
      " 1   VO2 (L/min)       60 non-null     object\n",
      " 2   VO2/kg (ml/kg/m)  60 non-null     object\n",
      " 3   METS              60 non-null     object\n",
      " 4   VCO2 (L/min)      60 non-null     object\n",
      " 5   VE (L/min)        60 non-null     object\n",
      " 6   RER               60 non-null     object\n",
      " 7   RR (BPM)          60 non-null     object\n",
      " 8   Vt (L)            60 non-null     object\n",
      " 9   FEO2 (%)          60 non-null     object\n",
      " 10  FECO2 (%)         60 non-null     object\n",
      " 11  HR (bpm)          60 non-null     object\n",
      " 12  VE/ (BT/ST)       60 non-null     object\n",
      " 13  VE/ (BT/ST)       60 non-null     object\n",
      " 14  PetCO2 (mmHg)     60 non-null     object\n",
      "dtypes: object(15)\n",
      "memory usage: 7.2+ KB\n"
     ]
    }
   ],
   "source": [
    "df2.info()"
   ]
  },
  {
   "cell_type": "code",
   "execution_count": 6,
   "id": "cc07f191",
   "metadata": {
    "execution": {
     "iopub.execute_input": "2025-03-27T18:56:55.661523Z",
     "iopub.status.busy": "2025-03-27T18:56:55.661260Z",
     "iopub.status.idle": "2025-03-27T18:56:55.671027Z",
     "shell.execute_reply": "2025-03-27T18:56:55.670106Z"
    },
    "papermill": {
     "duration": 0.018893,
     "end_time": "2025-03-27T18:56:55.672439",
     "exception": false,
     "start_time": "2025-03-27T18:56:55.653546",
     "status": "completed"
    },
    "tags": []
   },
   "outputs": [
    {
     "name": "stdout",
     "output_type": "stream",
     "text": [
      "count      61\n",
      "unique     61\n",
      "top       min\n",
      "freq        1\n",
      "Name: TIME, dtype: object\n"
     ]
    },
    {
     "data": {
      "text/plain": [
       "count              60\n",
       "unique             60\n",
       "top       0.534000039\n",
       "freq                1\n",
       "Name: TIME (min), dtype: object"
      ]
     },
     "execution_count": 6,
     "metadata": {},
     "output_type": "execute_result"
    }
   ],
   "source": [
    "print(df['TIME'].describe())  # I put the df[`TIME`]... in a print statment so that we see the results of both commands, it is not normally necessary\n",
    "# otherwise it would overwrite the first df[`TIME`] with the results of the second call below so fast you wont see it.\n",
    "\n",
    "df2['TIME (min)'].describe()\n",
    "\n",
    "# that said if you type df2[''] when you cursor is between the two quote hit tab and all the names for the columns will appear as option\n",
    "# also note that in our first dataframe as we have 57 values the first value in the column `top`is \"min\"  whereas in df2 the `top` value is .0517...\n",
    "# in both cases the descriptive statistics are poor as pythons sees this value as an object and not a float or intiger"
   ]
  },
  {
   "cell_type": "code",
   "execution_count": 7,
   "id": "b87ffd68",
   "metadata": {
    "execution": {
     "iopub.execute_input": "2025-03-27T18:56:55.688255Z",
     "iopub.status.busy": "2025-03-27T18:56:55.687978Z",
     "iopub.status.idle": "2025-03-27T18:56:55.696751Z",
     "shell.execute_reply": "2025-03-27T18:56:55.695983Z"
    },
    "papermill": {
     "duration": 0.018804,
     "end_time": "2025-03-27T18:56:55.698533",
     "exception": false,
     "start_time": "2025-03-27T18:56:55.679729",
     "status": "completed"
    },
    "tags": []
   },
   "outputs": [],
   "source": [
    "# Please note we are redefining the dataframe df here all previous edits and changes will be lost when we run this command.\n",
    "# As we import the data we tell the program that the header is found in row zero and to skip the next three rows\n",
    "\n",
    "df = pd.read_csv('../input/demo-knes381/subject_1432.csv', header=[0], skiprows=[1,2,3])\n",
    "# again we won't see anything happen here when this runs but the value should increment [17]..."
   ]
  },
  {
   "cell_type": "code",
   "execution_count": 8,
   "id": "a01731a0",
   "metadata": {
    "execution": {
     "iopub.execute_input": "2025-03-27T18:56:55.714392Z",
     "iopub.status.busy": "2025-03-27T18:56:55.714098Z",
     "iopub.status.idle": "2025-03-27T18:56:55.723473Z",
     "shell.execute_reply": "2025-03-27T18:56:55.722515Z"
    },
    "papermill": {
     "duration": 0.018999,
     "end_time": "2025-03-27T18:56:55.725070",
     "exception": false,
     "start_time": "2025-03-27T18:56:55.706071",
     "status": "completed"
    },
    "tags": []
   },
   "outputs": [
    {
     "name": "stdout",
     "output_type": "stream",
     "text": [
      "<class 'pandas.core.frame.DataFrame'>\n",
      "RangeIndex: 60 entries, 0 to 59\n",
      "Data columns (total 15 columns):\n",
      " #   Column  Non-Null Count  Dtype  \n",
      "---  ------  --------------  -----  \n",
      " 0   TIME    60 non-null     float64\n",
      " 1   VO2     60 non-null     float64\n",
      " 2   VO2/kg  60 non-null     float64\n",
      " 3   METS    60 non-null     float64\n",
      " 4   VCO2    60 non-null     float64\n",
      " 5   VE      60 non-null     float64\n",
      " 6   RER     60 non-null     float64\n",
      " 7   RR      60 non-null     float64\n",
      " 8   Vt      60 non-null     float64\n",
      " 9   FEO2    60 non-null     float64\n",
      " 10  FECO2   60 non-null     float64\n",
      " 11  HR      60 non-null     float64\n",
      " 12  VE/     60 non-null     float64\n",
      " 13  VE/.1   60 non-null     float64\n",
      " 14  PetCO2  60 non-null     float64\n",
      "dtypes: float64(15)\n",
      "memory usage: 7.2 KB\n"
     ]
    }
   ],
   "source": [
    "df.head()\n",
    "df.info()"
   ]
  },
  {
   "cell_type": "code",
   "execution_count": 9,
   "id": "96fa2043",
   "metadata": {
    "execution": {
     "iopub.execute_input": "2025-03-27T18:56:55.741556Z",
     "iopub.status.busy": "2025-03-27T18:56:55.741269Z",
     "iopub.status.idle": "2025-03-27T18:56:55.746732Z",
     "shell.execute_reply": "2025-03-27T18:56:55.745616Z"
    },
    "papermill": {
     "duration": 0.015955,
     "end_time": "2025-03-27T18:56:55.748219",
     "exception": false,
     "start_time": "2025-03-27T18:56:55.732264",
     "status": "completed"
    },
    "tags": []
   },
   "outputs": [
    {
     "data": {
      "text/plain": [
       "8.725"
      ]
     },
     "execution_count": 9,
     "metadata": {},
     "output_type": "execute_result"
    }
   ],
   "source": [
    "round(df['TIME'].std(), 3)\n",
    " # this will print the standard deviation of the \"TIME\" column to 3 decimal places"
   ]
  },
  {
   "cell_type": "code",
   "execution_count": 10,
   "id": "7e809395",
   "metadata": {
    "execution": {
     "iopub.execute_input": "2025-03-27T18:56:55.763859Z",
     "iopub.status.busy": "2025-03-27T18:56:55.763527Z",
     "iopub.status.idle": "2025-03-27T18:56:55.768249Z",
     "shell.execute_reply": "2025-03-27T18:56:55.767339Z"
    },
    "papermill": {
     "duration": 0.014198,
     "end_time": "2025-03-27T18:56:55.769855",
     "exception": false,
     "start_time": "2025-03-27T18:56:55.755657",
     "status": "completed"
    },
    "tags": []
   },
   "outputs": [],
   "source": [
    "# the convention for this is df.rename(columns={'old_name1': 'new_name1', 'old_name2': 'new_name2', 'old_name3': 'new_name3'})\n",
    "df = df.rename(columns={'VE/': 'VE/VO2', 'VE/.1': 'VE/VCO2'})\n",
    "# if we wanted to we could add the units as we did before here df.rename(columns={'old_name' : 'new_name(unit)'})"
   ]
  },
  {
   "cell_type": "code",
   "execution_count": 11,
   "id": "32ebcac8",
   "metadata": {
    "execution": {
     "iopub.execute_input": "2025-03-27T18:56:55.785218Z",
     "iopub.status.busy": "2025-03-27T18:56:55.784927Z",
     "iopub.status.idle": "2025-03-27T18:56:55.800421Z",
     "shell.execute_reply": "2025-03-27T18:56:55.799492Z"
    },
    "papermill": {
     "duration": 0.02513,
     "end_time": "2025-03-27T18:56:55.802148",
     "exception": false,
     "start_time": "2025-03-27T18:56:55.777018",
     "status": "completed"
    },
    "tags": []
   },
   "outputs": [
    {
     "data": {
      "text/html": [
       "<div>\n",
       "<style scoped>\n",
       "    .dataframe tbody tr th:only-of-type {\n",
       "        vertical-align: middle;\n",
       "    }\n",
       "\n",
       "    .dataframe tbody tr th {\n",
       "        vertical-align: top;\n",
       "    }\n",
       "\n",
       "    .dataframe thead th {\n",
       "        text-align: right;\n",
       "    }\n",
       "</style>\n",
       "<table border=\"1\" class=\"dataframe\">\n",
       "  <thead>\n",
       "    <tr style=\"text-align: right;\">\n",
       "      <th></th>\n",
       "      <th>TIME</th>\n",
       "      <th>VO2</th>\n",
       "      <th>VO2/kg</th>\n",
       "      <th>METS</th>\n",
       "      <th>VCO2</th>\n",
       "      <th>VE</th>\n",
       "      <th>RER</th>\n",
       "      <th>RR</th>\n",
       "      <th>Vt</th>\n",
       "      <th>FEO2</th>\n",
       "      <th>FECO2</th>\n",
       "      <th>HR</th>\n",
       "      <th>VE/VO2</th>\n",
       "      <th>VE/VCO2</th>\n",
       "      <th>PetCO2</th>\n",
       "    </tr>\n",
       "  </thead>\n",
       "  <tbody>\n",
       "    <tr>\n",
       "      <th>0</th>\n",
       "      <td>0.534000</td>\n",
       "      <td>1.031499</td>\n",
       "      <td>13.845630</td>\n",
       "      <td>3.955894</td>\n",
       "      <td>0.921028</td>\n",
       "      <td>32.770134</td>\n",
       "      <td>0.892902</td>\n",
       "      <td>24.344568</td>\n",
       "      <td>1.346096</td>\n",
       "      <td>16.599323</td>\n",
       "      <td>3.995723</td>\n",
       "      <td>82.0</td>\n",
       "      <td>31.769417</td>\n",
       "      <td>35.579960</td>\n",
       "      <td>27.013172</td>\n",
       "    </tr>\n",
       "    <tr>\n",
       "      <th>1</th>\n",
       "      <td>1.031667</td>\n",
       "      <td>1.078814</td>\n",
       "      <td>14.480719</td>\n",
       "      <td>4.137348</td>\n",
       "      <td>0.941370</td>\n",
       "      <td>32.809647</td>\n",
       "      <td>0.872598</td>\n",
       "      <td>22.103149</td>\n",
       "      <td>1.484388</td>\n",
       "      <td>16.425798</td>\n",
       "      <td>4.078266</td>\n",
       "      <td>36.0</td>\n",
       "      <td>30.412712</td>\n",
       "      <td>34.853065</td>\n",
       "      <td>27.121632</td>\n",
       "    </tr>\n",
       "    <tr>\n",
       "      <th>2</th>\n",
       "      <td>1.521333</td>\n",
       "      <td>0.999065</td>\n",
       "      <td>13.410264</td>\n",
       "      <td>3.831504</td>\n",
       "      <td>0.884314</td>\n",
       "      <td>29.550632</td>\n",
       "      <td>0.885142</td>\n",
       "      <td>18.379850</td>\n",
       "      <td>1.607773</td>\n",
       "      <td>16.286243</td>\n",
       "      <td>4.251849</td>\n",
       "      <td>56.0</td>\n",
       "      <td>29.578297</td>\n",
       "      <td>33.416447</td>\n",
       "      <td>28.356436</td>\n",
       "    </tr>\n",
       "    <tr>\n",
       "      <th>3</th>\n",
       "      <td>2.003167</td>\n",
       "      <td>1.156774</td>\n",
       "      <td>15.527171</td>\n",
       "      <td>4.436335</td>\n",
       "      <td>0.995852</td>\n",
       "      <td>32.446472</td>\n",
       "      <td>0.860887</td>\n",
       "      <td>18.678659</td>\n",
       "      <td>1.737088</td>\n",
       "      <td>16.058540</td>\n",
       "      <td>4.359823</td>\n",
       "      <td>27.0</td>\n",
       "      <td>28.049095</td>\n",
       "      <td>32.581615</td>\n",
       "      <td>29.167185</td>\n",
       "    </tr>\n",
       "    <tr>\n",
       "      <th>4</th>\n",
       "      <td>2.507667</td>\n",
       "      <td>1.121408</td>\n",
       "      <td>15.052456</td>\n",
       "      <td>4.300702</td>\n",
       "      <td>0.962488</td>\n",
       "      <td>31.226152</td>\n",
       "      <td>0.858285</td>\n",
       "      <td>15.857285</td>\n",
       "      <td>1.969199</td>\n",
       "      <td>16.025673</td>\n",
       "      <td>4.378263</td>\n",
       "      <td>27.0</td>\n",
       "      <td>27.845488</td>\n",
       "      <td>32.443176</td>\n",
       "      <td>29.204254</td>\n",
       "    </tr>\n",
       "  </tbody>\n",
       "</table>\n",
       "</div>"
      ],
      "text/plain": [
       "       TIME       VO2     VO2/kg      METS      VCO2         VE       RER  \\\n",
       "0  0.534000  1.031499  13.845630  3.955894  0.921028  32.770134  0.892902   \n",
       "1  1.031667  1.078814  14.480719  4.137348  0.941370  32.809647  0.872598   \n",
       "2  1.521333  0.999065  13.410264  3.831504  0.884314  29.550632  0.885142   \n",
       "3  2.003167  1.156774  15.527171  4.436335  0.995852  32.446472  0.860887   \n",
       "4  2.507667  1.121408  15.052456  4.300702  0.962488  31.226152  0.858285   \n",
       "\n",
       "          RR        Vt       FEO2     FECO2    HR     VE/VO2    VE/VCO2  \\\n",
       "0  24.344568  1.346096  16.599323  3.995723  82.0  31.769417  35.579960   \n",
       "1  22.103149  1.484388  16.425798  4.078266  36.0  30.412712  34.853065   \n",
       "2  18.379850  1.607773  16.286243  4.251849  56.0  29.578297  33.416447   \n",
       "3  18.678659  1.737088  16.058540  4.359823  27.0  28.049095  32.581615   \n",
       "4  15.857285  1.969199  16.025673  4.378263  27.0  27.845488  32.443176   \n",
       "\n",
       "      PetCO2  \n",
       "0  27.013172  \n",
       "1  27.121632  \n",
       "2  28.356436  \n",
       "3  29.167185  \n",
       "4  29.204254  "
      ]
     },
     "execution_count": 11,
     "metadata": {},
     "output_type": "execute_result"
    }
   ],
   "source": [
    "df.head()"
   ]
  },
  {
   "cell_type": "code",
   "execution_count": 12,
   "id": "eefd85a5",
   "metadata": {
    "execution": {
     "iopub.execute_input": "2025-03-27T18:56:55.818279Z",
     "iopub.status.busy": "2025-03-27T18:56:55.817987Z",
     "iopub.status.idle": "2025-03-27T18:56:55.823645Z",
     "shell.execute_reply": "2025-03-27T18:56:55.822755Z"
    },
    "papermill": {
     "duration": 0.015327,
     "end_time": "2025-03-27T18:56:55.825100",
     "exception": false,
     "start_time": "2025-03-27T18:56:55.809773",
     "status": "completed"
    },
    "tags": []
   },
   "outputs": [
    {
     "data": {
      "text/plain": [
       "39.537055314449674"
      ]
     },
     "execution_count": 12,
     "metadata": {},
     "output_type": "execute_result"
    }
   ],
   "source": [
    "df['HR'].std() # .std means standard deviation of the HR column"
   ]
  },
  {
   "cell_type": "code",
   "execution_count": 13,
   "id": "976e201f",
   "metadata": {
    "execution": {
     "iopub.execute_input": "2025-03-27T18:56:55.841179Z",
     "iopub.status.busy": "2025-03-27T18:56:55.840904Z",
     "iopub.status.idle": "2025-03-27T18:56:55.846347Z",
     "shell.execute_reply": "2025-03-27T18:56:55.845380Z"
    },
    "papermill": {
     "duration": 0.015291,
     "end_time": "2025-03-27T18:56:55.847944",
     "exception": false,
     "start_time": "2025-03-27T18:56:55.832653",
     "status": "completed"
    },
    "tags": []
   },
   "outputs": [
    {
     "data": {
      "text/plain": [
       "39.54"
      ]
     },
     "execution_count": 13,
     "metadata": {},
     "output_type": "execute_result"
    }
   ],
   "source": [
    " # .std means standard deviation of the HR column\n",
    "round(df['HR'].std(), 2)"
   ]
  },
  {
   "cell_type": "code",
   "execution_count": 14,
   "id": "762e730c",
   "metadata": {
    "execution": {
     "iopub.execute_input": "2025-03-27T18:56:55.864300Z",
     "iopub.status.busy": "2025-03-27T18:56:55.864030Z",
     "iopub.status.idle": "2025-03-27T18:56:55.867481Z",
     "shell.execute_reply": "2025-03-27T18:56:55.866766Z"
    },
    "papermill": {
     "duration": 0.013205,
     "end_time": "2025-03-27T18:56:55.868960",
     "exception": false,
     "start_time": "2025-03-27T18:56:55.855755",
     "status": "completed"
    },
    "tags": []
   },
   "outputs": [],
   "source": [
    "import matplotlib.pyplot as plt"
   ]
  },
  {
   "cell_type": "code",
   "execution_count": 15,
   "id": "c5279282",
   "metadata": {
    "execution": {
     "iopub.execute_input": "2025-03-27T18:56:55.885209Z",
     "iopub.status.busy": "2025-03-27T18:56:55.884933Z",
     "iopub.status.idle": "2025-03-27T18:56:56.208454Z",
     "shell.execute_reply": "2025-03-27T18:56:56.207407Z"
    },
    "papermill": {
     "duration": 0.333445,
     "end_time": "2025-03-27T18:56:56.210068",
     "exception": false,
     "start_time": "2025-03-27T18:56:55.876623",
     "status": "completed"
    },
    "tags": []
   },
   "outputs": [
    {
     "data": {
      "text/plain": [
       "<Axes: xlabel='TIME'>"
      ]
     },
     "execution_count": 15,
     "metadata": {},
     "output_type": "execute_result"
    },
    {
     "data": {
      "image/png": "[encoded data removed]",
      "text/plain": [
       "<Figure size 640x480 with 1 Axes>"
      ]
     },
     "metadata": {},
     "output_type": "display_data"
    }
   ],
   "source": [
    "df.plot('TIME','VO2')"
   ]
  },
  {
   "cell_type": "code",
   "execution_count": 16,
   "id": "169a4546",
   "metadata": {
    "execution": {
     "iopub.execute_input": "2025-03-27T18:56:56.228437Z",
     "iopub.status.busy": "2025-03-27T18:56:56.228137Z",
     "iopub.status.idle": "2025-03-27T18:56:56.419936Z",
     "shell.execute_reply": "2025-03-27T18:56:56.418875Z"
    },
    "papermill": {
     "duration": 0.202814,
     "end_time": "2025-03-27T18:56:56.421610",
     "exception": false,
     "start_time": "2025-03-27T18:56:56.218796",
     "status": "completed"
    },
    "tags": []
   },
   "outputs": [
    {
     "data": {
      "text/plain": [
       "<Axes: xlabel='TIME'>"
      ]
     },
     "execution_count": 16,
     "metadata": {},
     "output_type": "execute_result"
    },
    {
     "data": {
      "image/png": "[encoded data removed]",
      "text/plain": [
       "<Figure size 640x480 with 1 Axes>"
      ]
     },
     "metadata": {},
     "output_type": "display_data"
    }
   ],
   "source": [
    "# Or column positions such as  0=TIME, 1=VO2, 2=VO2/kg, ...\n",
    "\n",
    "df.plot(x=0, y=1)"
   ]
  },
  {
   "cell_type": "code",
   "execution_count": 17,
   "id": "956a653e",
   "metadata": {
    "execution": {
     "iopub.execute_input": "2025-03-27T18:56:56.440775Z",
     "iopub.status.busy": "2025-03-27T18:56:56.440368Z",
     "iopub.status.idle": "2025-03-27T18:56:56.712729Z",
     "shell.execute_reply": "2025-03-27T18:56:56.711874Z"
    },
    "papermill": {
     "duration": 0.283626,
     "end_time": "2025-03-27T18:56:56.714188",
     "exception": false,
     "start_time": "2025-03-27T18:56:56.430562",
     "status": "completed"
    },
    "tags": []
   },
   "outputs": [
    {
     "data": {
      "text/plain": [
       "Text(0, 0.5, 'L/min')"
      ]
     },
     "execution_count": 17,
     "metadata": {},
     "output_type": "execute_result"
    },
    {
     "data": {
      "image/png": "[encoded data removed]",
      "text/plain": [
       "<Figure size 640x480 with 1 Axes>"
      ]
     },
     "metadata": {},
     "output_type": "display_data"
    }
   ],
   "source": [
    "x = df['TIME']\n",
    "y = df['VO2']\n",
    "y1 = df['VCO2'] # second y plot\n",
    "plt.plot(x, y, c= 'r', label = '$\\dot VO_2$') # bracketing this in $ puts this into mathmode\n",
    "# where you can create special characters and names _2 makes a subscript 2, \n",
    "# ^2 would make a superscript 2,\n",
    "# \\dot V  puts a dot over the V... this is defined in latex type.\n",
    "plt.plot(x, y1, c='b', label='$\\dot VC0_2$')\n",
    "plt.legend()\n",
    "plt.xlabel('Time')  # This creates a x axis label for the plot\n",
    "plt.ylabel('L/min')  # This defines the y axix label for the plot"
   ]
  },
  {
   "cell_type": "code",
   "execution_count": 18,
   "id": "a6a3fa3a",
   "metadata": {
    "execution": {
     "iopub.execute_input": "2025-03-27T18:56:56.734781Z",
     "iopub.status.busy": "2025-03-27T18:56:56.734433Z",
     "iopub.status.idle": "2025-03-27T18:56:56.884786Z",
     "shell.execute_reply": "2025-03-27T18:56:56.883874Z"
    },
    "papermill": {
     "duration": 0.162386,
     "end_time": "2025-03-27T18:56:56.886345",
     "exception": false,
     "start_time": "2025-03-27T18:56:56.723959",
     "status": "completed"
    },
    "tags": []
   },
   "outputs": [
    {
     "data": {
      "text/plain": [
       "<Figure size 640x480 with 0 Axes>"
      ]
     },
     "metadata": {},
     "output_type": "display_data"
    }
   ],
   "source": [
    "plt.savefig(\"V02-VC02.png\", dpi=300, bbox_inches = \"tight\")"
   ]
  },
  {
   "cell_type": "code",
   "execution_count": 19,
   "id": "86825e55",
   "metadata": {
    "execution": {
     "iopub.execute_input": "2025-03-27T18:56:56.906643Z",
     "iopub.status.busy": "2025-03-27T18:56:56.906347Z",
     "iopub.status.idle": "2025-03-27T18:56:57.569309Z",
     "shell.execute_reply": "2025-03-27T18:56:57.568289Z"
    },
    "papermill": {
     "duration": 0.674763,
     "end_time": "2025-03-27T18:56:57.570836",
     "exception": false,
     "start_time": "2025-03-27T18:56:56.896073",
     "status": "completed"
    },
    "tags": []
   },
   "outputs": [
    {
     "data": {
      "image/png": "[encoded data removed]",
      "text/plain": [
       "<Figure size 640x480 with 1 Axes>"
      ]
     },
     "metadata": {},
     "output_type": "display_data"
    }
   ],
   "source": [
    "# import matplotlib.pyplot as plt we have already done this\n",
    "\n",
    "# Assuming df['TIME'], df['VO2'], and df['VCO2'] are defined\n",
    "x = df['TIME']\n",
    "y = df['VO2']\n",
    "y1 = df['VCO2']\n",
    "\n",
    "# Create a figure and one subplot (ax) This allows us great flexibility with setting features\n",
    "fig, ax = plt.subplots()\n",
    "\n",
    "# Plot data on the ax object\n",
    "ax.plot(x, y, c='r', label='$\\dot{V}O_2$') # This is LaTeX math code that I am using for the legends\n",
    "ax.plot(x, y1, c='b', label='$\\dot{V}CO_2$')# Matplotlib has full support for LaTeX\n",
    "\n",
    "# Add legend\n",
    "ax.legend()\n",
    "\n",
    "# Set x-axis and y-axis labels\n",
    "ax.set_xlabel('Time')  # Set the x-axis label\n",
    "ax.set_ylabel('L/min')  # Set the y-axis label, replace 'Value' with a descriptive term for your data\n",
    "ax.set_title('$\\dot{V}O_2$ Plot')\n",
    "# If we want to save the figure we call this function before we \"show\" it as this might change the figure\n",
    "\n",
    "# plt.savefig('VO2_plot.png', format='png', dpi=300, bbox_inches='tight')\n",
    "plt.savefig('VO2_plot.png', format='png', dpi=300, bbox_inches='tight')\n",
    "# we need to call the show function to render this to the screen we can avoid this step if we are processing many files at once.\n",
    "plt.show() # this gets rid of the information on the top right of the plot and is a little higher quality"
   ]
  },
  {
   "cell_type": "code",
   "execution_count": 20,
   "id": "d706fde1",
   "metadata": {
    "execution": {
     "iopub.execute_input": "2025-03-27T18:56:57.593069Z",
     "iopub.status.busy": "2025-03-27T18:56:57.592535Z",
     "iopub.status.idle": "2025-03-27T18:56:57.596485Z",
     "shell.execute_reply": "2025-03-27T18:56:57.595797Z"
    },
    "papermill": {
     "duration": 0.016609,
     "end_time": "2025-03-27T18:56:57.597916",
     "exception": false,
     "start_time": "2025-03-27T18:56:57.581307",
     "status": "completed"
    },
    "tags": []
   },
   "outputs": [],
   "source": [
    "# simplify our terms to reduce future typing...\n",
    "x = df['TIME']\n",
    "y = df['VO2']\n",
    "y1 = df['VE']"
   ]
  },
  {
   "cell_type": "code",
   "execution_count": 21,
   "id": "602aa861",
   "metadata": {
    "execution": {
     "iopub.execute_input": "2025-03-27T18:56:57.620185Z",
     "iopub.status.busy": "2025-03-27T18:56:57.619890Z",
     "iopub.status.idle": "2025-03-27T18:56:57.624033Z",
     "shell.execute_reply": "2025-03-27T18:56:57.623089Z"
    },
    "papermill": {
     "duration": 0.017133,
     "end_time": "2025-03-27T18:56:57.625467",
     "exception": false,
     "start_time": "2025-03-27T18:56:57.608334",
     "status": "completed"
    },
    "tags": []
   },
   "outputs": [],
   "source": [
    "#Find VO2 max value \n",
    "ymax = max(y)\n",
    "\n",
    "# find the x position of the ymax value or where ymax occurs on the x axis\n",
    "xmax = x[y.argmax()]"
   ]
  },
  {
   "cell_type": "code",
   "execution_count": 22,
   "id": "a1589bb7",
   "metadata": {
    "execution": {
     "iopub.execute_input": "2025-03-27T18:56:57.646869Z",
     "iopub.status.busy": "2025-03-27T18:56:57.646536Z",
     "iopub.status.idle": "2025-03-27T18:56:57.650366Z",
     "shell.execute_reply": "2025-03-27T18:56:57.649539Z"
    },
    "papermill": {
     "duration": 0.016439,
     "end_time": "2025-03-27T18:56:57.652046",
     "exception": false,
     "start_time": "2025-03-27T18:56:57.635607",
     "status": "completed"
    },
    "tags": []
   },
   "outputs": [
    {
     "name": "stdout",
     "output_type": "stream",
     "text": [
      "3.718159437\n",
      "29.00016212\n"
     ]
    }
   ],
   "source": [
    "print(ymax)\n",
    "print(xmax)"
   ]
  },
  {
   "cell_type": "code",
   "execution_count": 23,
   "id": "dfe4dc6a",
   "metadata": {
    "execution": {
     "iopub.execute_input": "2025-03-27T18:56:57.673327Z",
     "iopub.status.busy": "2025-03-27T18:56:57.673075Z",
     "iopub.status.idle": "2025-03-27T18:56:57.965200Z",
     "shell.execute_reply": "2025-03-27T18:56:57.964201Z"
    },
    "papermill": {
     "duration": 0.304554,
     "end_time": "2025-03-27T18:56:57.967000",
     "exception": false,
     "start_time": "2025-03-27T18:56:57.662446",
     "status": "completed"
    },
    "tags": []
   },
   "outputs": [
    {
     "data": {
      "image/png": "[encoded data removed]",
      "text/plain": [
       "<Figure size 640x480 with 2 Axes>"
      ]
     },
     "metadata": {},
     "output_type": "display_data"
    }
   ],
   "source": [
    "# break up the figure and axis definitions of a plot \n",
    "# so it is easier to assign values\n",
    "\n",
    "fig, ax = plt.subplots(2, 1, sharex=True)\n",
    "\n",
    "# create 2 subplots share x axis, in the next line we will remove \n",
    "# spaces between the horizontal axis, play with this value to see what happens the value can be 0.01 for example\n",
    "\n",
    "fig.subplots_adjust(hspace=0.1\n",
    "                   )"
   ]
  },
  {
   "cell_type": "code",
   "execution_count": 24,
   "id": "7a5077a5",
   "metadata": {
    "execution": {
     "iopub.execute_input": "2025-03-27T18:56:57.989862Z",
     "iopub.status.busy": "2025-03-27T18:56:57.989499Z",
     "iopub.status.idle": "2025-03-27T18:56:57.996127Z",
     "shell.execute_reply": "2025-03-27T18:56:57.995261Z"
    },
    "papermill": {
     "duration": 0.01951,
     "end_time": "2025-03-27T18:56:57.997475",
     "exception": false,
     "start_time": "2025-03-27T18:56:57.977965",
     "status": "completed"
    },
    "tags": []
   },
   "outputs": [
    {
     "data": {
      "text/plain": [
       "Text(29.50016212, 4.718159437000001, '$\\\\dot VO_2max$ =(3.72) L/min')"
      ]
     },
     "execution_count": 24,
     "metadata": {},
     "output_type": "execute_result"
    }
   ],
   "source": [
    "ax[0].annotate('$\\dot VO_2max$ =({}) L/min'.format(round(ymax, 2)), \n",
    "               xy=(xmax, ymax), xytext=(xmax+.5, ymax+ 1),\n",
    "               arrowprops=dict(facecolor='red', shrink= 0.05),\n",
    "                )"
   ]
  },
  {
   "cell_type": "code",
   "execution_count": 25,
   "id": "8f023078",
   "metadata": {
    "execution": {
     "iopub.execute_input": "2025-03-27T18:56:58.020309Z",
     "iopub.status.busy": "2025-03-27T18:56:58.020002Z",
     "iopub.status.idle": "2025-03-27T18:56:58.029224Z",
     "shell.execute_reply": "2025-03-27T18:56:58.028431Z"
    },
    "papermill": {
     "duration": 0.022182,
     "end_time": "2025-03-27T18:56:58.030644",
     "exception": false,
     "start_time": "2025-03-27T18:56:58.008462",
     "status": "completed"
    },
    "tags": []
   },
   "outputs": [
    {
     "data": {
      "text/plain": [
       "<matplotlib.legend.Legend at 0x789d1814fd00>"
      ]
     },
     "execution_count": 25,
     "metadata": {},
     "output_type": "execute_result"
    }
   ],
   "source": [
    "ax[0].plot(x, y,  label=('$\\dot VO_2$'), c='r' )\n",
    "ax[0].spines[['right', 'top']].set_visible(False)\n",
    "#note all these set features could be added in one line but reading it would be difficult\n",
    "#ax.set(title = ('$\\dot VO_2$'), label=('$\\dot VO_2$ L/min'))  \n",
    "ax[0].set(ylabel=('L/min'))\n",
    "ax[0].legend()"
   ]
  },
  {
   "cell_type": "code",
   "execution_count": 26,
   "id": "0a900f93",
   "metadata": {
    "execution": {
     "iopub.execute_input": "2025-03-27T18:56:58.053481Z",
     "iopub.status.busy": "2025-03-27T18:56:58.053201Z",
     "iopub.status.idle": "2025-03-27T18:56:58.061876Z",
     "shell.execute_reply": "2025-03-27T18:56:58.061102Z"
    },
    "papermill": {
     "duration": 0.021715,
     "end_time": "2025-03-27T18:56:58.063214",
     "exception": false,
     "start_time": "2025-03-27T18:56:58.041499",
     "status": "completed"
    },
    "tags": []
   },
   "outputs": [
    {
     "data": {
      "text/plain": [
       "<matplotlib.legend.Legend at 0x789d17dab010>"
      ]
     },
     "execution_count": 26,
     "metadata": {},
     "output_type": "execute_result"
    }
   ],
   "source": [
    "# Second plot of values down from the top\n",
    "ax[1].plot(x, y1, label=('VE'), c='b')\n",
    "ax[1].spines[['top', 'right']].set_visible(False)\n",
    "ax[1].set(ylabel=('L/min'))\n",
    "ax[1].legend()"
   ]
  },
  {
   "cell_type": "code",
   "execution_count": 27,
   "id": "94dc40f5",
   "metadata": {
    "execution": {
     "iopub.execute_input": "2025-03-27T18:56:58.086392Z",
     "iopub.status.busy": "2025-03-27T18:56:58.086104Z",
     "iopub.status.idle": "2025-03-27T18:56:58.581262Z",
     "shell.execute_reply": "2025-03-27T18:56:58.580411Z"
    },
    "papermill": {
     "duration": 0.509189,
     "end_time": "2025-03-27T18:56:58.583415",
     "exception": false,
     "start_time": "2025-03-27T18:56:58.074226",
     "status": "completed"
    },
    "tags": []
   },
   "outputs": [],
   "source": [
    "fig.savefig(\"VO2-VE-3.png\", dpi=300, bbox_inches = \"tight\")"
   ]
  },
  {
   "cell_type": "code",
   "execution_count": 28,
   "id": "99f1a147",
   "metadata": {
    "execution": {
     "iopub.execute_input": "2025-03-27T18:56:58.607260Z",
     "iopub.status.busy": "2025-03-27T18:56:58.606957Z",
     "iopub.status.idle": "2025-03-27T18:56:59.507774Z",
     "shell.execute_reply": "2025-03-27T18:56:59.506439Z"
    },
    "papermill": {
     "duration": 0.914911,
     "end_time": "2025-03-27T18:56:59.510136",
     "exception": false,
     "start_time": "2025-03-27T18:56:58.595225",
     "status": "completed"
    },
    "tags": []
   },
   "outputs": [
    {
     "data": {
      "image/png": "[encoded data removed]",
      "text/plain": [
       "<Figure size 640x480 with 2 Axes>"
      ]
     },
     "metadata": {},
     "output_type": "display_data"
    }
   ],
   "source": [
    "# break up the figure and axis definitions of a plot \n",
    "# so it is easier to assign values\n",
    "fig, ax = plt.subplots(2, 1, sharex=True)  # Height increased from default\n",
    "# spaces between the horizontal axis, play with this value?\n",
    "fig.subplots_adjust(hspace=0)\n",
    "\n",
    "\n",
    "ax[0].annotate('$\\dot VO_2max$ =({}) L/min'.format(round(ymax, 2)), \n",
    "               xy=(xmax, ymax), xytext=(xmax+.5, ymax+ 1),\n",
    "               arrowprops=dict(facecolor='red', shrink= 0.05),\n",
    "                )\n",
    "\n",
    "ax[0].plot(x, y,  label=('$\\dot VO_2$'), c='r' )\n",
    "ax[0].spines[['right', 'top']].set_visible(False)\n",
    "#note all these set features could be added in one line but reading it would be difficult\n",
    "#ax.set(title = ('$\\dot VO_2$'), label=('$\\dot VO_2$ L/min'))  \n",
    "ax[0].set(ylabel=('L/min'))\n",
    "ax[0].legend()\n",
    "\n",
    "# Second plot of values down from the top\n",
    "ax[1].plot(x, y1, label=('VE'), c='b')\n",
    "ax[1].spines[['top', 'right']].set_visible(False)\n",
    "ax[1].set(ylabel=('breaths/min'))\n",
    "ax[1].legend()\n",
    "\n",
    "#ax[0].set_ylim(min(y) - 1, max(y) + 1)  # Adjust as needed for your data\n",
    "#ax[1].set_ylim(min(y1) - 1, max(y1) + 1)  # Adjust as needed\n",
    "\n",
    "# save the figure before we show it... or it will be blank\n",
    "fig.savefig(\"VO2-VE-3.png\", dpi=300, bbox_inches = \"tight\")\n",
    "fig.show()"
   ]
  },
  {
   "cell_type": "code",
   "execution_count": 29,
   "id": "5e8ecf5f",
   "metadata": {
    "execution": {
     "iopub.execute_input": "2025-03-27T18:56:59.539939Z",
     "iopub.status.busy": "2025-03-27T18:56:59.539553Z",
     "iopub.status.idle": "2025-03-27T18:57:00.784940Z",
     "shell.execute_reply": "2025-03-27T18:57:00.783933Z"
    },
    "papermill": {
     "duration": 1.261741,
     "end_time": "2025-03-27T18:57:00.786556",
     "exception": false,
     "start_time": "2025-03-27T18:56:59.524815",
     "status": "completed"
    },
    "tags": []
   },
   "outputs": [
    {
     "data": {
      "image/png": "[encoded data removed]",
      "text/plain": [
       "<Figure size 800x1000 with 2 Axes>"
      ]
     },
     "metadata": {},
     "output_type": "display_data"
    }
   ],
   "source": [
    "### Now all together in one code block that could run independently...\n",
    "# lets take care of importing everything we need at once\n",
    "\n",
    "import numpy as np # linear algebra\n",
    "import pandas as pd # data processing, CSV file I/O (e.g. pd.read_csv)\n",
    "import matplotlib.pyplot as plt\n",
    "\n",
    "# Lets read in our file now\n",
    "df = pd.read_csv('../input/demo-knes381/subject_1432.csv', header=[0], skiprows=[1,2,3])\n",
    "\n",
    "# please note that while this is an output file from the parvo-metabolics cart we have\n",
    "# I have edited this data set and simplied the header file on it\n",
    "\n",
    "# rename our column headers\n",
    "df = df.rename(columns={'VE/': 'VE/VO2','VE/.1': 'VE/VCO2'})\n",
    "\n",
    "# simplify our terms to reduce future typing... \n",
    "# it is easier to write plot x, y than plot df['Time'], df['VO2']\n",
    "x = df['TIME']\n",
    "y = df['VO2']\n",
    "y1 = df['VE']\n",
    "\n",
    "#Find VO2 max value \n",
    "ymax = max(y)\n",
    "\n",
    "# find the x position of the ymax value or where ymax occurs on the x axis\n",
    "xmax = x[y.argmax()]\n",
    "\n",
    "fig, ax = plt.subplots(2, 1, sharex=True, figsize=(8, 10)) # Note I increased the figure size here.\n",
    "\n",
    "# this line seperates the two plots...\n",
    "fig.subplots_adjust(hspace=0)\n",
    "\n",
    "# annotate the position of V02 max before plotting the value, we could do this later but why.\n",
    "\n",
    "ax[0].annotate('$\\dot VO_2max$ =({}) L/min'.format(round(ymax, 2)), \n",
    "               xy=(xmax, ymax), xytext=(xmax+.5, ymax+ .5),\n",
    "               arrowprops=dict(facecolor='red', shrink= 0.05),\n",
    "                )\n",
    "\n",
    "ax[0].plot(x, y, 'o', label=('$\\dot VO_2$'), c='r' )\n",
    "# in the line of code below I hide the top and right black bars serrounding the plot for APA format.\n",
    "ax[0].spines[['right', 'top']].set_visible(False)\n",
    "ax[0].set(ylabel=('L/min'))\n",
    "ax[0].legend()\n",
    "#note all these set features could be added in one line but reading it would be difficult\n",
    "\n",
    "# Second plot of values down from the top\n",
    "ax[1].plot(x, y1, 'o', label=('VE'), c='b')\n",
    "ax[1].spines[['top', 'right']].set_visible(False)\n",
    "ax[1].set(ylabel=('breaths/min'))\n",
    "ax[1].set(xlabel=('Time(min)'))\n",
    "ax[1].legend()\n",
    "\n",
    "# save the figure before we show it... or it will be blank\n",
    "fig.savefig(\"VO2-VE-4.png\", dpi=300, bbox_inches = \"tight\")\n",
    "fig.show()"
   ]
  },
  {
   "cell_type": "code",
   "execution_count": 30,
   "id": "dbd87801",
   "metadata": {
    "execution": {
     "iopub.execute_input": "2025-03-27T18:57:00.812531Z",
     "iopub.status.busy": "2025-03-27T18:57:00.812234Z",
     "iopub.status.idle": "2025-03-27T18:57:00.816311Z",
     "shell.execute_reply": "2025-03-27T18:57:00.815409Z"
    },
    "papermill": {
     "duration": 0.018484,
     "end_time": "2025-03-27T18:57:00.817737",
     "exception": false,
     "start_time": "2025-03-27T18:57:00.799253",
     "status": "completed"
    },
    "tags": []
   },
   "outputs": [],
   "source": [
    "# simplify our terms to reduce future typing...\n",
    "x = df['VO2']\n",
    "y = df['FECO2']\n",
    "y1 = df['VCO2']"
   ]
  },
  {
   "cell_type": "code",
   "execution_count": 31,
   "id": "05a5feee",
   "metadata": {
    "execution": {
     "iopub.execute_input": "2025-03-27T18:57:00.854565Z",
     "iopub.status.busy": "2025-03-27T18:57:00.854097Z",
     "iopub.status.idle": "2025-03-27T18:57:02.067166Z",
     "shell.execute_reply": "2025-03-27T18:57:02.066030Z"
    },
    "papermill": {
     "duration": 1.231978,
     "end_time": "2025-03-27T18:57:02.068947",
     "exception": false,
     "start_time": "2025-03-27T18:57:00.836969",
     "status": "completed"
    },
    "tags": []
   },
   "outputs": [
    {
     "data": {
      "image/png": "[encoded data removed]",
      "text/plain": [
       "<Figure size 800x1000 with 2 Axes>"
      ]
     },
     "metadata": {},
     "output_type": "display_data"
    }
   ],
   "source": [
    "### Now all together in one code block that could run independently...\n",
    "# lets take care of importing everything we need at once\n",
    "\n",
    "import numpy as np # linear algebra\n",
    "import pandas as pd # data processing, CSV file I/O (e.g. pd.read_csv)\n",
    "import matplotlib.pyplot as plt\n",
    "\n",
    "# Lets read in our file now\n",
    "df = pd.read_csv('../input/demo-knes381/subject_1432.csv', header=[0], skiprows=[1,2,3])\n",
    "\n",
    "# please note that while this is an output file from the parvo-metabolics cart we have\n",
    "# I have edited this data set and simplied the header file on it\n",
    "\n",
    "# rename our column headers\n",
    "df = df.rename(columns={'VE/': 'VE/VO2','VE/.1': 'VE/VCO2'})\n",
    "\n",
    "# simplify our terms to reduce future typing... \n",
    "# it is easier to write plot x, y than plot df['Time'], df['VO2']\n",
    "x = df['VO2']\n",
    "y = df['FECO2']\n",
    "y1 = df['VCO2']\n",
    "\n",
    "#Find VO2 max value \n",
    "ymax = max(y)\n",
    "# find the x position of the ymax value or where ymax occurs on the x axis\n",
    "xmax = x[y.argmax()]\n",
    "\n",
    "fig, ax = plt.subplots(2, 1, sharex=True, figsize=(8, 10)) # Note I increased the figure size here.\n",
    "\n",
    "# this line seperates the two plots...\n",
    "fig.subplots_adjust(hspace=0)\n",
    "\n",
    "# annotate the position of V02 max before plotting the value, we could do this later but why.\n",
    "\n",
    "ax[0].annotate('$\\dot VO_2max$ =({}) L/min'.format(round(ymax, 2)), \n",
    "               xy=(xmax, ymax), xytext=(xmax+.5, ymax+ .5),\n",
    "               arrowprops=dict(facecolor='red', shrink= 0.05),\n",
    "                )\n",
    "\n",
    "ax[0].plot(x, y, 'o', label=('FECO2'), c='r' )\n",
    "# in the line of code below I hide the top and right black bars serrounding the plot for APA format.\n",
    "ax[0].spines[['right', 'top']].set_visible(False)\n",
    "ax[0].set(ylabel=('%'))\n",
    "ax[0].legend()\n",
    "#note all these set features could be added in one line but reading it would be difficult\n",
    "\n",
    "# Second plot of values down from the top\n",
    "ax[1].plot(x, y1, 'o', label=('VCO2'), c='b')\n",
    "ax[1].spines[['top', 'right']].set_visible(False)\n",
    "ax[1].set(ylabel=('L/min'))\n",
    "ax[1].set(xlabel=('L/min'))\n",
    "ax[1].legend()\n",
    "\n",
    "# save the figure before we show it... or it will be blank\n",
    "fig.savefig(\"FECO2-VCO2-4.png\", dpi=300, bbox_inches = \"tight\")\n",
    "fig.show()"
   ]
  }
 ],
 "metadata": {
  "kaggle": {
   "accelerator": "none",
   "dataSources": [
    {
     "datasetId": 2952233,
     "sourceId": 5084312,
     "sourceType": "datasetVersion"
    }
   ],
   "dockerImageVersionId": 30918,
   "isGpuEnabled": false,
   "isInternetEnabled": false,
   "language": "python",
   "sourceType": "notebook"
  },
  "kernelspec": {
   "display_name": "Python 3",
   "language": "python",
   "name": "python3"
  },
  "language_info": {
   "codemirror_mode": {
    "name": "ipython",
    "version": 3
   },
   "file_extension": ".py",
   "mimetype": "text/x-python",
   "name": "python",
   "nbconvert_exporter": "python",
   "pygments_lexer": "ipython3",
   "version": "3.10.12"
  },
  "papermill": {
   "default_parameters": {},
   "duration": 10.546903,
   "end_time": "2025-03-27T18:57:02.601373",
   "environment_variables": {},
   "exception": null,
   "input_path": "__notebook__.ipynb",
   "output_path": "__notebook__.ipynb",
   "parameters": {},
   "start_time": "2025-03-27T18:56:52.054470",
   "version": "2.6.0"
  }
 },
 "nbformat": 4,
 "nbformat_minor": 5
}
